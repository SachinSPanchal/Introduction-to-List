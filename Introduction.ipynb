{
  "nbformat": 4,
  "nbformat_minor": 0,
  "metadata": {
    "colab": {
      "name": "Introduction.ipynb",
      "provenance": [],
      "authorship_tag": "ABX9TyNVYU9Z3PXmJpq33BWJ67DO",
      "include_colab_link": true
    },
    "kernelspec": {
      "name": "python3",
      "display_name": "Python 3"
    },
    "language_info": {
      "name": "python"
    }
  },
  "cells": [
    {
      "cell_type": "markdown",
      "metadata": {
        "id": "view-in-github",
        "colab_type": "text"
      },
      "source": [
        "<a href=\"https://colab.research.google.com/github/SachinSPanchal/Python-in-30-Days/blob/main/Introduction.ipynb\" target=\"_parent\"><img src=\"https://colab.research.google.com/assets/colab-badge.svg\" alt=\"Open In Colab\"/></a>"
      ]
    },
    {
      "cell_type": "code",
      "metadata": {
        "id": "cBxplCRzA8DC"
      },
      "source": [
        ""
      ],
      "execution_count": null,
      "outputs": []
    },
    {
      "cell_type": "markdown",
      "metadata": {
        "id": "y2GJ4phzCM3g"
      },
      "source": [
        "#What is **Python** ?\n",
        "###Python is a popular programming language. It was created by Guido van Rossum, and released in 1991.\n",
        "\n",
        "##It is used for:\n",
        "\n",
        "###1.web development (server-side),\n",
        "###2.software development,\n",
        "###3.mathematics,\n",
        "###4.system scripting.\n"
      ]
    },
    {
      "cell_type": "markdown",
      "metadata": {
        "id": "V5KSLduQCnUo"
      },
      "source": [
        ""
      ]
    },
    {
      "cell_type": "markdown",
      "metadata": {
        "id": "m06zrlKeCuTd"
      },
      "source": [
        "##What can **Python** do?\n",
        "###Python can be used on a server to create web applications.\n",
        "###Python can be used alongside software to create workflows.\n",
        "###Python can connect to database systems. It can also read and modify files.\n",
        "###Python can be used to handle big data and perform complex mathematics.\n",
        "###Python can be used for rapid prototyping, or for production-ready software development."
      ]
    },
    {
      "cell_type": "markdown",
      "metadata": {
        "id": "Q0eiSZYODN1A"
      },
      "source": [
        ""
      ]
    },
    {
      "cell_type": "markdown",
      "metadata": {
        "id": "R8VtnVYDC1_l"
      },
      "source": [
        "##Why **Python**?\n",
        "###Python works on different platforms (Windows, Mac, Linux, Raspberry Pi, etc).\n",
        "###Python has a simple syntax similar to the English language.\n",
        "###Python has syntax that allows developers to write programs with fewer lines than some other programming languages.\n",
        "###Python runs on an interpreter system, meaning that code can be executed as soon as it is written. This means that prototyping can be very quick.\n",
        "###Python can be treated in a procedural way, an object-oriented way or a functional way."
      ]
    },
    {
      "cell_type": "markdown",
      "metadata": {
        "id": "bZQnKF5DDJsB"
      },
      "source": [
        ""
      ]
    },
    {
      "cell_type": "markdown",
      "metadata": {
        "id": "CuO8PRLTCjZf"
      },
      "source": [
        ""
      ]
    },
    {
      "cell_type": "markdown",
      "metadata": {
        "id": "tQyQYvfzCcQY"
      },
      "source": [
        ""
      ]
    },
    {
      "cell_type": "markdown",
      "metadata": {
        "id": "w7l8v46oCPYg"
      },
      "source": [
        ""
      ]
    },
    {
      "cell_type": "markdown",
      "metadata": {
        "id": "xDufWkzpCJEP"
      },
      "source": [
        "# New section"
      ]
    },
    {
      "cell_type": "markdown",
      "metadata": {
        "id": "na0D4qj-CE_y"
      },
      "source": [
        ""
      ]
    },
    {
      "cell_type": "markdown",
      "metadata": {
        "id": "OJdIyqUPCDhm"
      },
      "source": [
        ""
      ]
    },
    {
      "cell_type": "markdown",
      "metadata": {
        "id": "djrxh42fB-aW"
      },
      "source": [
        ""
      ]
    },
    {
      "cell_type": "markdown",
      "metadata": {
        "id": "xd9tl2XxCC4m"
      },
      "source": [
        ""
      ]
    }
  ]
}